{
  "nbformat": 4,
  "nbformat_minor": 0,
  "metadata": {
    "colab": {
      "provenance": [],
      "authorship_tag": "ABX9TyMwWG3mWteZqEt5I90ynV2c",
      "include_colab_link": true
    },
    "kernelspec": {
      "name": "python3",
      "display_name": "Python 3"
    },
    "language_info": {
      "name": "python"
    }
  },
  "cells": [
    {
      "cell_type": "markdown",
      "metadata": {
        "id": "view-in-github",
        "colab_type": "text"
      },
      "source": [
        "<a href=\"https://colab.research.google.com/github/munjurulahsan/Coaching_Management_System/blob/main/project_final.ipynb\" target=\"_parent\"><img src=\"https://colab.research.google.com/assets/colab-badge.svg\" alt=\"Open In Colab\"/></a>"
      ]
    },
    {
      "cell_type": "code",
      "execution_count": 3,
      "metadata": {
        "id": "e6ytsx32ELEt"
      },
      "outputs": [],
      "source": [
        "class Person:\n",
        "    def __init__(self, id, name):\n",
        "        self.id = id\n",
        "        self.name = name\n",
        "\n",
        "    def display_person(self):\n",
        "        print(\"ID:\", self.id)\n",
        "        print(\"Name:\", self.name)\n",
        "       # print(\"**\")\n",
        "\n",
        "\n",
        "\n"
      ]
    },
    {
      "cell_type": "code",
      "source": [
        "class Contact(Person):\n",
        "    def __init__(self, id, name, number):\n",
        "        super().__init__(id, name)\n",
        "        self.number = number\n",
        "\n",
        "    def display_contact(self):\n",
        "        super().display_person()\n",
        "        print(\"Number:\", self.number)\n",
        "        print(\"***************\")\n"
      ],
      "metadata": {
        "id": "OigEeN0VGNZK"
      },
      "execution_count": 4,
      "outputs": []
    },
    {
      "cell_type": "code",
      "source": [
        "class PhoneBook:\n",
        "    def __init__(self):\n",
        "        self.contacts = []\n",
        "\n",
        "    def add_contact(self, contact):\n",
        "        self.contacts.append(contact)\n",
        "        print(\"Contact added successfully!\")\n",
        "\n",
        "    def remove_contact(self, id):\n",
        "        for contact in self.contacts:\n",
        "            if contact.id == id:\n",
        "                self.contacts.remove(contact)\n",
        "                print(\"Contact removed successfully!\")\n",
        "                return\n",
        "        print(\"Contact not found.\")\n",
        "\n",
        "    def display_all_contacts(self):\n",
        "        if not self.contacts:\n",
        "            print(\"No contacts in the phonebook.\")\n",
        "        else:\n",
        "            print(\"List of Contacts:\\n\")\n",
        "            for contact in self.contacts:\n",
        "                contact.display_contact()\n",
        "\n",
        "    def search_contact(self, id):\n",
        "        for contact in self.contacts:\n",
        "            if contact.id == id:\n",
        "                contact.display_contact()\n",
        "                return\n",
        "        print(\"Contact not found.\")\n",
        "\n",
        "    def update_contact(self, id, new_name, new_number):\n",
        "        for contact in self.contacts:\n",
        "            if contact.id == id:\n",
        "                contact.name = new_name\n",
        "                contact.number = new_number\n",
        "                print(\"Contact information updated successfully!\")\n",
        "                return\n",
        "        print(\"Contact not found.\")\n"
      ],
      "metadata": {
        "id": "6lElipmaSNSd"
      },
      "execution_count": 5,
      "outputs": []
    },
    {
      "cell_type": "code",
      "source": [
        "def main():\n",
        "    phone_book = PhoneBook()\n",
        "\n",
        "    while True:\n",
        "        print(\"\\n--------------------------------\")\n",
        "        print(\"Phone Book Management System Menu:\")\n",
        "        print(\"--------------------------------\")\n",
        "\n",
        "        print(\"1. Add Contact\")\n",
        "        print(\"2. Remove Contact\")\n",
        "        print(\"3. Display All Contacts\")\n",
        "        print(\"4. Update Contact Information\")\n",
        "        print(\"5. Search Contact\")\n",
        "        print(\"6. Exit\")\n",
        "\n",
        "        choice = input(\"Enter your choice: \")\n",
        "        print()\n",
        "\n",
        "        if choice == \"1\":\n",
        "            id = int(input(\"Enter contact ID: \"))\n",
        "            name = input(\"Enter contact name: \")\n",
        "            number = input(\"Enter contact number: \")\n",
        "            new_contact = Contact(id, name, number)\n",
        "            phone_book.add_contact(new_contact)\n",
        "            print(\"\\n--------------------------------\")\n",
        "\n",
        "        elif choice == \"2\":\n",
        "            id = int(input(\"Enter the ID of contact to remove: \"))\n",
        "            phone_book.remove_contact(id)\n",
        "            print(\"\\n--------------------------------\")\n",
        "\n",
        "        elif choice == \"3\":\n",
        "            phone_book.display_all_contacts()\n",
        "            print(\"\\n--------------------------------\")\n",
        "\n",
        "        elif choice == \"4\":\n",
        "            id = int(input(\"Enter ID of contact to update: \"))\n",
        "            new_name = input(\"Enter new name: \")\n",
        "            new_number = input(\"Enter new number: \")\n",
        "            phone_book.update_contact(id, new_name, new_number)\n",
        "            print(\"\\n--------------------------------\")\n",
        "\n",
        "        elif choice == \"5\":\n",
        "            id = int(input(\"Enter the ID of contact to search: \"))\n",
        "            phone_book.search_contact(id)\n",
        "            print(\"\\n--------------------------------\")\n",
        "\n",
        "        elif choice == \"6\":\n",
        "            print(\"Thank you for using the Phone Book Management System!\\nExiting...\")\n",
        "            break\n",
        "\n",
        "        else:\n",
        "            print(\"Invalid choice. Please enter a number between 1 and 6.\")\n",
        "\n",
        "if __name__ == \"__main__\":\n",
        "    main()\n"
      ],
      "metadata": {
        "colab": {
          "base_uri": "https://localhost:8080/"
        },
        "id": "lTRIskxsSklW",
        "outputId": "2da28c21-74be-4e43-95b4-5e7bbc89268f"
      },
      "execution_count": 7,
      "outputs": [
        {
          "output_type": "stream",
          "name": "stdout",
          "text": [
            "\n",
            "--------------------------------\n",
            "Phone Book Management System Menu:\n",
            "--------------------------------\n",
            "1. Add Contact\n",
            "2. Remove Contact\n",
            "3. Display All Contacts\n",
            "4. Update Contact Information\n",
            "5. Search Contact\n",
            "6. Exit\n",
            "Enter your choice: 6\n",
            "\n",
            "Thank you for using the Phone Book Management System!\n",
            "Exiting...\n"
          ]
        }
      ]
    }
  ]
}